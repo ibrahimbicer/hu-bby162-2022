{
  "nbformat": 4,
  "nbformat_minor": 0,
  "metadata": {
    "colab": {
      "name": "Untitled0.ipynb",
      "provenance": [],
      "authorship_tag": "ABX9TyNt8AKN8QYsapzYNHlSYyDE",
      "include_colab_link": true
    },
    "kernelspec": {
      "name": "python3",
      "display_name": "Python 3"
    },
    "language_info": {
      "name": "python"
    }
  },
  "cells": [
    {
      "cell_type": "markdown",
      "metadata": {
        "id": "view-in-github",
        "colab_type": "text"
      },
      "source": [
        "<a href=\"https://colab.research.google.com/github/ibrahimbicer/hu-bby162-2022/blob/main/proje01.ipynb\" target=\"_parent\"><img src=\"https://colab.research.google.com/assets/colab-badge.svg\" alt=\"Open In Colab\"/></a>"
      ]
    },
    {
      "cell_type": "code",
      "execution_count": null,
      "metadata": {
        "id": "f0Dt_G7nVaKm"
      },
      "outputs": [],
      "source": [
        "liste = (\"tavşan\" , \"marul\" , \"leopar\" , \"salam\" , \"demir\" , \"tahta\")\n",
        "secim = input(\"İndeks numarasını giriniz: \")\n",
        "\n",
        "if (secim. isdigit()):\n",
        "  secim=int(secim)\n",
        "  listeToplam = len(liste)\n",
        "  if secim < listeToplam:\n",
        "    print(liste[secim])\n",
        "\n",
        "  else:\n",
        "    print(\"İndeks dışı giriş!!\")\n",
        "    "
      ]
    }
  ]
}