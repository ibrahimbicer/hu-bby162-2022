{
  "nbformat": 4,
  "nbformat_minor": 0,
  "metadata": {
    "colab": {
      "name": "Untitled1.ipynb",
      "provenance": [],
      "authorship_tag": "ABX9TyMS940EpUtIJfzdg3RihWUs",
      "include_colab_link": true
    },
    "kernelspec": {
      "name": "python3",
      "display_name": "Python 3"
    },
    "language_info": {
      "name": "python"
    }
  },
  "cells": [
    {
      "cell_type": "markdown",
      "metadata": {
        "id": "view-in-github",
        "colab_type": "text"
      },
      "source": [
        "<a href=\"https://colab.research.google.com/github/ibrahimbicer/hu-bby162-2022/blob/main/proje03.ipynb\" target=\"_parent\"><img src=\"https://colab.research.google.com/assets/colab-badge.svg\" alt=\"Open In Colab\"/></a>"
      ]
    },
    {
      "cell_type": "code",
      "execution_count": 29,
      "metadata": {
        "colab": {
          "base_uri": "https://localhost:8080/"
        },
        "id": "WWk9aOXAU7-D",
        "outputId": "fc057e8e-7bd7-409c-9c45-1ed543780669"
      },
      "outputs": [
        {
          "output_type": "stream",
          "name": "stdout",
          "text": [
            "Başlamak için adınızı girinizatilla\n",
            "Evet - Hayır Oyununa Hoşgeldiniz\n",
            "Her bir soruya sadece 'Evet' ve 'Hayır' cevaplarından sadece birisi verebilirsiniz.\n",
            "1. Kromozomu fazla olan canlı daha gelişmiştir.\n",
            "cevabınız: Hayır\n",
            "Yanlış bildiniz.\n",
            "2. Türkiye'de Barış ismini ilk olarak Barış Manço almıştır.\n",
            "cevabınız: Evet\n",
            "Tebrikler, doğru bildiniz.\n",
            "3. Çakmak kibritten önce üretilmiştir.\n",
            "cevabınız: Evet\n",
            "Tebrikler, doğru bildiniz.\n",
            "4. 1 gram pamuk 23 gram su tutar.\n",
            "cevabınız: Evet\n",
            "Tebrikler, doğru bildiniz.\n",
            "5. Ahtapotların 3 tane kalbi vardır.\n",
            "cevabınız: Evet\n",
            "Tebrikler, doğru bildiniz.\n"
          ]
        }
      ],
      "source": [
        "\n",
        "isim = input(\"Başlamak için adınızı giriniz\")\n",
        "print(\"Evet - Hayır Oyununa Hoşgeldiniz\")\n",
        "\n",
        "print(\"Her bir soruya sadece 'Evet' ve 'Hayır' cevaplarından sadece birisi verebilirsiniz.\")\n",
        "\n",
        "sorular = [\"Kromozomu fazla olan canlı daha gelişmiştir.\", \"Türkiye'de Barış ismini ilk olarak Barış Manço almıştır.\", \"Çakmak kibritten önce üretilmiştir.\", \"1 gram pamuk 23 gram su tutar.\", \"Ahtapotların 3 tane kalbi vardır.\"]\n",
        "\n",
        "doğruCevaplar =[\"Hayır\", \"Evet\", \"Evet\", \"Evet\", \"Evet\"]\n",
        "\n",
        "\n",
        "puan = 0\n",
        "\n",
        "print(\"1. \" + sorular[0])\n",
        "cevap = input(\"cevabınız: \")\n",
        "if cevap == doğruCevaplar[1]:\n",
        "  print(\"Tebrikler, doğru bildiniz.\")\n",
        "  puan += 1\n",
        "else:\n",
        "  print(\"Yanlış bildiniz.\")\n",
        "print(\"2. \" + sorular[1])\n",
        "cevap = input(\"cevabınız: \")\n",
        "if cevap == doğruCevaplar[1]:\n",
        "  print(\"Tebrikler, doğru bildiniz.\")\n",
        "  puan += 1\n",
        "else:\n",
        "  print(\"Yanlış bildiniz.\")\n",
        "print(\"3. \" + sorular[2])\n",
        "cevap = input(\"cevabınız: \")\n",
        "if cevap == doğruCevaplar[2]:\n",
        "  print(\"Tebrikler, doğru bildiniz.\")\n",
        "  puan += 1\n",
        "else: \n",
        "  print(\"Yanlış bildiniz.\")\n",
        "print(\"4. \" + sorular[3])\n",
        "cevap == input(\"cevabınız: \")\n",
        "if cevap == doğruCevaplar[3]:\n",
        "  print(\"Tebrikler, doğru bildiniz.\")\n",
        "  puan += 1\n",
        "else:\n",
        " print(\"Yanlış bildiniz.\")\n",
        "print(\"5. \" + sorular[4])\n",
        "cevap = input(\"cevabınız: \")\n",
        "if cevap == doğruCevaplar[4]:\n",
        "  print(\"Tebrikler, doğru bildiniz.\")\n",
        "  puan += 1\n",
        "\n",
        " \n",
        "     \n",
        "    \n",
        "\n",
        " "
      ]
    }
  ]
}