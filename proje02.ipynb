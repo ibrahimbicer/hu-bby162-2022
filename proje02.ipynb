{
  "nbformat": 4,
  "nbformat_minor": 0,
  "metadata": {
    "colab": {
      "name": "proje02.ipynb",
      "provenance": [],
      "authorship_tag": "ABX9TyM0BTmbuKdH3JsurN5mdtRH",
      "include_colab_link": true
    },
    "kernelspec": {
      "name": "python3",
      "display_name": "Python 3"
    },
    "language_info": {
      "name": "python"
    }
  },
  "cells": [
    {
      "cell_type": "markdown",
      "metadata": {
        "id": "view-in-github",
        "colab_type": "text"
      },
      "source": [
        "<a href=\"https://colab.research.google.com/github/ibrahimbicer/hu-bby162-2022/blob/main/proje02.ipynb\" target=\"_parent\"><img src=\"https://colab.research.google.com/assets/colab-badge.svg\" alt=\"Open In Colab\"/></a>"
      ]
    },
    {
      "cell_type": "code",
      "execution_count": null,
      "metadata": {
        "colab": {
          "base_uri": "https://localhost:8080/"
        },
        "id": "3WVLYD2tnSHF",
        "outputId": "edf61526-e0df-4917-e1a6-ff6c5d02846e"
      },
      "outputs": [
        {
          "output_type": "stream",
          "name": "stdout",
          "text": [
            "Merhabalar^^\n"
          ]
        }
      ],
      "source": [
        "from random import randint\n",
        "\n",
        "print(\"Merhabalar^^\")\n",
        "\n",
        "\n",
        "isim=input(\"İsminizi Giriniz: \")\n",
        "print(\"Oyuna hoş geldiniz\", isim)\n",
        "\n",
        "def oyna(adamCan):\n",
        "  kelimeler = seviye1 = [\"kütüphane\", \"katalog\", \"dizinleme\", \"dewey\", \"sınıflandırma\", \"kartkatalog\"]\n",
        "  kelimeSayisi = len(kelimeler)\n",
        "  secilen = randint(0, kelimeSayisi-1)\n",
        "  secilenKelime = kelimeler[secilen]\n",
        "\n",
        "  dizilenKelime = []\n",
        "  for diz in kelimeler[secilen]:\n",
        "    dizilenKelime.append(\"___\")\n",
        "  print(dizilenKelime)\n",
        "\n",
        "  while adamCan > 0:\n",
        "    girilenHarf = input(\"Bir harf giriniz: \")\n",
        "    canKontrol = girilenHarf in secilenKelime\n",
        "    if canKontrol == False:\n",
        "      adamCan -=1\n",
        "    i = 0\n",
        "    for kontrol in secilenKelime:\n",
        "      if secilenKelime[i] == girilenHarf:\n",
        "        dizilenKelime[i] = girilenHarf\n",
        "      i +=1\n",
        "    print(dizilenKelime)\n",
        "    print(\"Kalan canınınız: \" + str(adamCan))\n",
        "\n",
        "def seviyeSec():\n",
        "  print(\"Oynamak istediğiniz seviyeyi seçiniz: 1 (Kolay) * 2 (Orta) * 3 (Zor) \")\n",
        "  seviye = input(\"Seviye: \")\n",
        "  if seviye == \"1\":\n",
        "    oyna(7)\n",
        "  elif seviye == \"2\":\n",
        "    oyna(5)\n",
        "  elif seviye == \"3\":\n",
        "    oyna(3)\n",
        "  else:\n",
        "    print(\"Geçersiz seviye girdiniz. Lütfen baştan başlayınız!\")\n",
        "\n",
        "\n",
        "seviyeSec()\n"
      ]
    }
  ]
}