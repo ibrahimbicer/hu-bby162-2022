{
  "nbformat": 4,
  "nbformat_minor": 0,
  "metadata": {
    "colab": {
      "name": "proje04.ipynb",
      "provenance": [],
      "collapsed_sections": [],
      "mount_file_id": "1K2aWNMTt2Ynn8IXbIpBxLyg8iq4ZLd50",
      "authorship_tag": "ABX9TyPimiEkTd0ga5GIOmblc9Sq",
      "include_colab_link": true
    },
    "kernelspec": {
      "name": "python3",
      "display_name": "Python 3"
    },
    "language_info": {
      "name": "python"
    }
  },
  "cells": [
    {
      "cell_type": "markdown",
      "metadata": {
        "id": "view-in-github",
        "colab_type": "text"
      },
      "source": [
        "<a href=\"https://colab.research.google.com/github/ibrahimbicer/hu-bby162-2022/blob/main/proje04.ipynb\" target=\"_parent\"><img src=\"https://colab.research.google.com/assets/colab-badge.svg\" alt=\"Open In Colab\"/></a>"
      ]
    },
    {
      "cell_type": "code",
      "execution_count": null,
      "metadata": {
        "id": "--PTIqP1mmwi"
      },
      "outputs": [],
      "source": [
        "#Kütüphane Kataloğu\n",
        "# Veri kaydım : /content/drive/MyDrive/Colab Notebooks/HU-BBY162-2022/veritabanı.txt\n",
        "dosya = \"/content/drive/MyDrive/Colab Notebooks/HU-BBY162-2022/veritabanı.txt\"\n",
        "def eserListesi():\n",
        "  dosya = \"/content/drive/MyDrive/Colab Notebooks/HU-BBY162-2022/veritabanı.txt\"\n",
        "  f = open(dosya, \"r\")\n",
        "\n",
        "  for line in f.readlines():\n",
        "    print(line)\n",
        "\n",
        "  f.close()\n",
        "\n",
        "\n",
        "def eserKaydet():\n",
        "  EserAd = input(\"Eser adını giriniz: \")\n",
        "  Yazar = input(\"Yazar adını giriniz: \")\n",
        "  Yayın = input(\"Yayınevini giriniz: \")\n",
        "  Basım = input(\"Basım tarihini giriniz: \")\n",
        "  \n",
        "  dosya = \"/content/drive/MyDrive/Colab Notebooks/HU-BBY162-2022/veritabanı.txt\"\n",
        "  f = open(dosya, \"a\")\n",
        "  f.write(ad+ \",\" +yazar+ \".\" +yayın+ \",\" +basım+ \"\\n\")\n",
        "  f.close()\n",
        "\n",
        "\n",
        "def menu():\n",
        "  print(\" * KüTÜPHANE KATALOĞU OTOMASYON SİSTEMİ *\")\n",
        "  while True:\n",
        "    print(\" 1- Çıkış Yap\")\n",
        "    print(\" 2- Eser Görüntüle\")\n",
        "    print(\" 3- Eser Kaydet\")\n",
        "    islem = input(\" Yapmak istediğiniz işlemi seçiniz (1/3): \")\n",
        "    if islem ==\"1\":\n",
        "      print(\" Çıkış yapılmıştır.\")\n",
        "      break\n",
        "    elif islem == \"2\":\n",
        "      eserListesi()\n",
        "    elif islem == \"3\":\n",
        "      eserKaydet()\n",
        "\n",
        "menu()\n",
        "\n",
        "\n"
      ]
    }
  ]
}